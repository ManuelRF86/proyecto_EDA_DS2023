{
 "cells": [
  {
   "cell_type": "markdown",
   "metadata": {},
   "source": [
    "## Webscrapping"
   ]
  },
  {
   "cell_type": "code",
   "execution_count": 1,
   "metadata": {},
   "outputs": [],
   "source": [
    "from bs4 import BeautifulSoup as bs\n",
    "import requests\n",
    "import pandas as pd\n",
    "# from splinter import Browser\n",
    "import numpy as np"
   ]
  },
  {
   "cell_type": "code",
   "execution_count": 99,
   "metadata": {},
   "outputs": [
    {
     "data": {
      "text/plain": [
       "<Response [403]>"
      ]
     },
     "execution_count": 99,
     "metadata": {},
     "output_type": "execute_result"
    }
   ],
   "source": [
    "#url = \"https://www.transfermarkt.es/laliga/topVerursachteElfmeter/wettbewerb/ES1/plus/?saison_id=2022\"       #url de los pelnaltis a favor\n",
    "url = \"https://www.transfermarkt.es/laliga/topVerursachteElfmeter/wettbewerb/ES1/plus/?saison_id=2005\"        #url de los pelnaltis a favor\n",
    "\n",
    "requests.get(url)    #la url es de la pagina de transfermark donde aparecen por temporada, los penaltis a favor o en contra de la liga, por lo que hay que obtener los datos de cada temporada."
   ]
  },
  {
   "cell_type": "code",
   "execution_count": 100,
   "metadata": {},
   "outputs": [
    {
     "data": {
      "text/plain": [
       "<Response [200]>"
      ]
     },
     "execution_count": 100,
     "metadata": {},
     "output_type": "execute_result"
    }
   ],
   "source": [
    "from fake_useragent import UserAgent                #ya que me niega el acceso, hay que ejcutar este código\n",
    "ua = UserAgent()\n",
    "headers = {'User-Agent': ua.random}\n",
    "response = requests.get(url, headers=headers)\n",
    "response"
   ]
  },
  {
   "cell_type": "code",
   "execution_count": 101,
   "metadata": {},
   "outputs": [],
   "source": [
    "soup = bs(response.text,'html.parser')             #Creo la variable con todos los datos de la url\n"
   ]
  },
  {
   "cell_type": "code",
   "execution_count": 102,
   "metadata": {},
   "outputs": [],
   "source": [
    "\"\"\"creo un diccionario con las claves Equipo y penaltis,\n",
    "las cuales contienen una lista vacia, a la que le iremos añadiendo \n",
    "los datos que vamos extrayendo de cada busqueda mediante bucle for.\n",
    "Este código hay que ejecutarlo por cada temporada y tanto para penaltis a favor como en contra \"\"\"\n",
    "\n",
    "diccionario = {'Equipo' : [],\n",
    "               'penaltis_contra' : []\n",
    "               }\n",
    "\n",
    "title = soup.find(\"table\", class_=\"items\").find_all('td',class_=\"zentriert no-border-rechts\")\n",
    "penaltis = soup.find(\"table\", class_=\"items\").find_all('td', class_=\"zentriert hauptlink\")\n",
    "\n",
    "for n in penaltis:\n",
    "    diccionario['penaltis_contra'].append(n.find('a').get_text())\n",
    "\n",
    "for i in title:\n",
    "    diccionario['Equipo'].append(i.find('a')['title'])"
   ]
  },
  {
   "cell_type": "code",
   "execution_count": null,
   "metadata": {},
   "outputs": [],
   "source": [
    "diccionario = {'Equipo' : [],\n",
    "               'penaltis_favor' : []\n",
    "               }\n",
    "\n",
    "title = soup.find(\"table\", class_=\"items\").find_all('td',class_=\"zentriert no-border-rechts\")\n",
    "penaltis = soup.find(\"table\", class_=\"items\").find_all('td', class_=\"zentriert hauptlink\")\n",
    "\n",
    "for n in penaltis:\n",
    "    diccionario['penaltis_favor'].append(n.find('a').get_text())\n",
    "\n",
    "for i in title:\n",
    "    diccionario['Equipo'].append(i.find('a')['title'])"
   ]
  },
  {
   "cell_type": "code",
   "execution_count": 9,
   "metadata": {},
   "outputs": [],
   "source": [
    "\"\"\"Por cada temporada temporada, creo una DF\"\"\"\n",
    "\n",
    "df_2223 = pd.DataFrame(diccionario)"
   ]
  },
  {
   "cell_type": "code",
   "execution_count": 14,
   "metadata": {},
   "outputs": [],
   "source": [
    "df_2122 = pd.DataFrame(diccionario)"
   ]
  },
  {
   "cell_type": "code",
   "execution_count": 19,
   "metadata": {},
   "outputs": [],
   "source": [
    "df_2021 = pd.DataFrame(diccionario)"
   ]
  },
  {
   "cell_type": "code",
   "execution_count": 24,
   "metadata": {},
   "outputs": [],
   "source": [
    "df_1920 = pd.DataFrame(diccionario)"
   ]
  },
  {
   "cell_type": "code",
   "execution_count": 29,
   "metadata": {},
   "outputs": [],
   "source": [
    "df_1819 = pd.DataFrame(diccionario)"
   ]
  },
  {
   "cell_type": "code",
   "execution_count": 35,
   "metadata": {},
   "outputs": [],
   "source": [
    "df_1718 = pd.DataFrame(diccionario)"
   ]
  },
  {
   "cell_type": "code",
   "execution_count": 40,
   "metadata": {},
   "outputs": [],
   "source": [
    "df_1617 = pd.DataFrame(diccionario)"
   ]
  },
  {
   "cell_type": "code",
   "execution_count": 45,
   "metadata": {},
   "outputs": [],
   "source": [
    "df_1516 = pd.DataFrame(diccionario)"
   ]
  },
  {
   "cell_type": "code",
   "execution_count": 51,
   "metadata": {},
   "outputs": [],
   "source": [
    "df_1415 = pd.DataFrame(diccionario)"
   ]
  },
  {
   "cell_type": "code",
   "execution_count": 60,
   "metadata": {},
   "outputs": [],
   "source": [
    "df_1314 = pd.DataFrame(diccionario)"
   ]
  },
  {
   "cell_type": "code",
   "execution_count": 65,
   "metadata": {},
   "outputs": [],
   "source": [
    "df_1213 = pd.DataFrame(diccionario)"
   ]
  },
  {
   "cell_type": "code",
   "execution_count": 70,
   "metadata": {},
   "outputs": [],
   "source": [
    "df_1112 = pd.DataFrame(diccionario)"
   ]
  },
  {
   "cell_type": "code",
   "execution_count": 76,
   "metadata": {},
   "outputs": [],
   "source": [
    "df_1011 = pd.DataFrame(diccionario)"
   ]
  },
  {
   "cell_type": "code",
   "execution_count": 82,
   "metadata": {},
   "outputs": [],
   "source": [
    "df_0910 = pd.DataFrame(diccionario)"
   ]
  },
  {
   "cell_type": "code",
   "execution_count": 88,
   "metadata": {},
   "outputs": [],
   "source": [
    "df_0809 = pd.DataFrame(diccionario)"
   ]
  },
  {
   "cell_type": "code",
   "execution_count": 93,
   "metadata": {},
   "outputs": [],
   "source": [
    "df_0708 = pd.DataFrame(diccionario)"
   ]
  },
  {
   "cell_type": "code",
   "execution_count": 98,
   "metadata": {},
   "outputs": [],
   "source": [
    "df_0607 = pd.DataFrame(diccionario)"
   ]
  },
  {
   "cell_type": "code",
   "execution_count": 103,
   "metadata": {},
   "outputs": [],
   "source": [
    "df_0506 = pd.DataFrame(diccionario)"
   ]
  },
  {
   "cell_type": "code",
   "execution_count": null,
   "metadata": {},
   "outputs": [],
   "source": [
    "\"\"\"Al principio quería hacerlo de otra forma y decidí exportar los datos 1 a 1,\n",
    "pero debería haber concatenado primero las datframe, por lo que fue un trabajazo innecesario\"\"\"\n",
    "\n",
    "#df_0506.to_csv('data/05-06.csv')"
   ]
  },
  {
   "cell_type": "code",
   "execution_count": 150,
   "metadata": {},
   "outputs": [],
   "source": [
    "\"\"\"Las vuelvo a importar añadiendo la columna de cada temporada \"\"\"\n",
    "\n",
    "penalti_05 = pd.read_csv('data/pen05.csv')          \n",
    "penalti_05['Temporada'] = '05/06'\n",
    "penalti_06 = pd.read_csv('data/pen06.csv')          \n",
    "penalti_06['Temporada'] = '06/07'\n",
    "penalti_07 = pd.read_csv('data/pen07.csv')          \n",
    "penalti_07['Temporada'] = '07/08'\n",
    "penalti_08 = pd.read_csv('data/pen08.csv')          \n",
    "penalti_08['Temporada'] = '08/09'\n",
    "penalti_09 = pd.read_csv('data/pen09.csv')          \n",
    "penalti_09['Temporada'] = '09/10'\n",
    "penalti_10 = pd.read_csv('data/pen10.csv')          \n",
    "penalti_10['Temporada'] = '10/11'\n",
    "penalti_11 = pd.read_csv('data/pen11.csv')          \n",
    "penalti_11['Temporada'] = '11/12'\n",
    "penalti_12 = pd.read_csv('data/pen12.csv')          \n",
    "penalti_12['Temporada'] = '12/13'\n",
    "penalti_13 = pd.read_csv('data/pen13.csv')          \n",
    "penalti_13['Temporada'] = '13/14'\n",
    "penalti_14 = pd.read_csv('data/pen14.csv')          \n",
    "penalti_14['Temporada'] = '14/15'\n",
    "penalti_15 = pd.read_csv('data/pen15.csv')          \n",
    "penalti_15['Temporada'] = '15/16'\n",
    "penalti_16 = pd.read_csv('data/pen16.csv')          \n",
    "penalti_16['Temporada'] = '16/17'\n",
    "penalti_17 = pd.read_csv('data/pen17.csv')          \n",
    "penalti_17['Temporada'] = '17/18'\n",
    "penalti_18 = pd.read_csv('data/pen18.csv')          \n",
    "penalti_18['Temporada'] = '18/19'\n",
    "penalti_19 = pd.read_csv('data/pen19.csv')          \n",
    "penalti_19['Temporada'] = '19/20'\n",
    "penalti_20 = pd.read_csv('data/pen20.csv')          \n",
    "penalti_20['Temporada'] = '20/21'\n",
    "penalti_21 = pd.read_csv('data/pen12.csv')          \n",
    "penalti_21['Temporada'] = '21/22'\n",
    "penalti_22 = pd.read_csv('data/pen22.csv')          \n",
    "penalti_22['Temporada'] = '22/23'\n",
    "penaltisF = pd.concat([penalti_05,penalti_06, penalti_07,penalti_08,penalti_09,penalti_10,penalti_11,penalti_12,penalti_13,penalti_14,penalti_15,penalti_16,penalti_17,penalti_18,penalti_19,penalti_20,penalti_21,penalti_22])\n"
   ]
  },
  {
   "cell_type": "code",
   "execution_count": 151,
   "metadata": {},
   "outputs": [],
   "source": [
    "penaltiC_05 = pd.read_csv('data/pen_C_05.csv')          \n",
    "penaltiC_05['Temporada'] = '05/06'\n",
    "penaltiC_06 = pd.read_csv('data/pen_C_06.csv')          \n",
    "penaltiC_06['Temporada'] = '06/07'\n",
    "penaltiC_07 = pd.read_csv('data/pen_C_07.csv')          \n",
    "penaltiC_07['Temporada'] = '07/08'\n",
    "penaltiC_08 = pd.read_csv('data/pen_C_08.csv')          \n",
    "penaltiC_08['Temporada'] = '08/09'\n",
    "penaltiC_09 = pd.read_csv('data/pen_C_09.csv')          \n",
    "penaltiC_09['Temporada'] = '09/10'\n",
    "penaltiC_10 = pd.read_csv('data/pen_C_10.csv')          \n",
    "penaltiC_10['Temporada'] = '10/11'\n",
    "penaltiC_11 = pd.read_csv('data/pen_C_11.csv')          \n",
    "penaltiC_11['Temporada'] = '11/12'\n",
    "penaltiC_12 = pd.read_csv('data/pen_C_12.csv')          \n",
    "penaltiC_12['Temporada'] = '12/13'\n",
    "penaltiC_13 = pd.read_csv('data/pen_C_13.csv')          \n",
    "penaltiC_13['Temporada'] = '13/14'\n",
    "penaltiC_14 = pd.read_csv('data/pen_C_14.csv')          \n",
    "penaltiC_14['Temporada'] = '14/15'\n",
    "penaltiC_15 = pd.read_csv('data/pen_C_15.csv')          \n",
    "penaltiC_15['Temporada'] = '15/16'\n",
    "penaltiC_16 = pd.read_csv('data/pen_C_16.csv')          \n",
    "penaltiC_16['Temporada'] = '16/17'\n",
    "penaltiC_17 = pd.read_csv('data/pen_C_17.csv')          \n",
    "penaltiC_17['Temporada'] = '17/18'\n",
    "penaltiC_18 = pd.read_csv('data/pen_C_18.csv')          \n",
    "penaltiC_18['Temporada'] = '18/19'\n",
    "penaltiC_19 = pd.read_csv('data/pen_C_19.csv')          \n",
    "penaltiC_19['Temporada'] = '19/20'\n",
    "penaltiC_20 = pd.read_csv('data/pen_C_20.csv')          \n",
    "penaltiC_20['Temporada'] = '20/21'\n",
    "penaltiC_21 = pd.read_csv('data/pen_C_21.csv')          \n",
    "penaltiC_21['Temporada'] = '21/22'\n",
    "penaltiC_22 = pd.read_csv('data/pen_C_22.csv')          \n",
    "penaltiC_22['Temporada'] = '22/23'\n",
    "penaltisC = pd.concat([penaltiC_05,penaltiC_06, penaltiC_07,penaltiC_08,penaltiC_09,penaltiC_10,penaltiC_11,penaltiC_12,penaltiC_13,penaltiC_14,penaltiC_15,penaltiC_16,penaltiC_17,penaltiC_18,penaltiC_19,penaltiC_20,penaltiC_21,penaltiC_22])\n"
   ]
  },
  {
   "cell_type": "code",
   "execution_count": 152,
   "metadata": {},
   "outputs": [],
   "source": [
    "penaltisF = penaltisF.drop('Unnamed: 0',axis=1)\n",
    "penaltisC = penaltisC.drop('Unnamed: 0',axis=1)"
   ]
  },
  {
   "cell_type": "code",
   "execution_count": 194,
   "metadata": {},
   "outputs": [
    {
     "data": {
      "text/html": [
       "<div>\n",
       "<style scoped>\n",
       "    .dataframe tbody tr th:only-of-type {\n",
       "        vertical-align: middle;\n",
       "    }\n",
       "\n",
       "    .dataframe tbody tr th {\n",
       "        vertical-align: top;\n",
       "    }\n",
       "\n",
       "    .dataframe thead th {\n",
       "        text-align: right;\n",
       "    }\n",
       "</style>\n",
       "<table border=\"1\" class=\"dataframe\">\n",
       "  <thead>\n",
       "    <tr style=\"text-align: right;\">\n",
       "      <th></th>\n",
       "      <th>Equipo</th>\n",
       "      <th>penaltis_contra</th>\n",
       "      <th>Temporada</th>\n",
       "      <th>penaltis</th>\n",
       "    </tr>\n",
       "  </thead>\n",
       "  <tbody>\n",
       "    <tr>\n",
       "      <th>0</th>\n",
       "      <td>Deportivo Alavés</td>\n",
       "      <td>10</td>\n",
       "      <td>05/06</td>\n",
       "      <td>5</td>\n",
       "    </tr>\n",
       "    <tr>\n",
       "      <th>1</th>\n",
       "      <td>Racing Santander</td>\n",
       "      <td>8</td>\n",
       "      <td>05/06</td>\n",
       "      <td>3</td>\n",
       "    </tr>\n",
       "    <tr>\n",
       "      <th>2</th>\n",
       "      <td>Real Zaragoza</td>\n",
       "      <td>7</td>\n",
       "      <td>05/06</td>\n",
       "      <td>2</td>\n",
       "    </tr>\n",
       "    <tr>\n",
       "      <th>3</th>\n",
       "      <td>Málaga CF</td>\n",
       "      <td>7</td>\n",
       "      <td>05/06</td>\n",
       "      <td>2</td>\n",
       "    </tr>\n",
       "    <tr>\n",
       "      <th>4</th>\n",
       "      <td>CA Osasuna</td>\n",
       "      <td>6</td>\n",
       "      <td>05/06</td>\n",
       "      <td>4</td>\n",
       "    </tr>\n",
       "    <tr>\n",
       "      <th>...</th>\n",
       "      <td>...</td>\n",
       "      <td>...</td>\n",
       "      <td>...</td>\n",
       "      <td>...</td>\n",
       "    </tr>\n",
       "    <tr>\n",
       "      <th>351</th>\n",
       "      <td>Real Bétis</td>\n",
       "      <td>3</td>\n",
       "      <td>22/23</td>\n",
       "      <td>9</td>\n",
       "    </tr>\n",
       "    <tr>\n",
       "      <th>352</th>\n",
       "      <td>Athletic Bilbao</td>\n",
       "      <td>3</td>\n",
       "      <td>22/23</td>\n",
       "      <td>7</td>\n",
       "    </tr>\n",
       "    <tr>\n",
       "      <th>353</th>\n",
       "      <td>FC Barcelona</td>\n",
       "      <td>3</td>\n",
       "      <td>22/23</td>\n",
       "      <td>2</td>\n",
       "    </tr>\n",
       "    <tr>\n",
       "      <th>354</th>\n",
       "      <td>Sevilla FC</td>\n",
       "      <td>3</td>\n",
       "      <td>22/23</td>\n",
       "      <td>5</td>\n",
       "    </tr>\n",
       "    <tr>\n",
       "      <th>355</th>\n",
       "      <td>Real Sociedad</td>\n",
       "      <td>2</td>\n",
       "      <td>22/23</td>\n",
       "      <td>4</td>\n",
       "    </tr>\n",
       "  </tbody>\n",
       "</table>\n",
       "<p>356 rows × 4 columns</p>\n",
       "</div>"
      ],
      "text/plain": [
       "               Equipo  penaltis_contra Temporada  penaltis\n",
       "0    Deportivo Alavés               10     05/06         5\n",
       "1    Racing Santander                8     05/06         3\n",
       "2       Real Zaragoza                7     05/06         2\n",
       "3           Málaga CF                7     05/06         2\n",
       "4          CA Osasuna                6     05/06         4\n",
       "..                ...              ...       ...       ...\n",
       "351        Real Bétis                3     22/23         9\n",
       "352   Athletic Bilbao                3     22/23         7\n",
       "353      FC Barcelona                3     22/23         2\n",
       "354        Sevilla FC                3     22/23         5\n",
       "355     Real Sociedad                2     22/23         4\n",
       "\n",
       "[356 rows x 4 columns]"
      ]
     },
     "execution_count": 194,
     "metadata": {},
     "output_type": "execute_result"
    }
   ],
   "source": [
    "\"\"\"Al fusionar ambas tablas, por motivo que aún desconozco, \n",
    "me desaparecen 4 filas, por lo que tengo que identificarlas y arreglarlo\"\"\"\n",
    "\n",
    "penaltis = pd.merge(penaltisC,penaltisF)\n",
    "penaltis"
   ]
  },
  {
   "cell_type": "code",
   "execution_count": 167,
   "metadata": {},
   "outputs": [],
   "source": [
    "#pd.set_option('display.max_rows', 30)"
   ]
  },
  {
   "cell_type": "code",
   "execution_count": 183,
   "metadata": {},
   "outputs": [
    {
     "data": {
      "text/html": [
       "<div>\n",
       "<style scoped>\n",
       "    .dataframe tbody tr th:only-of-type {\n",
       "        vertical-align: middle;\n",
       "    }\n",
       "\n",
       "    .dataframe tbody tr th {\n",
       "        vertical-align: top;\n",
       "    }\n",
       "\n",
       "    .dataframe thead th {\n",
       "        text-align: right;\n",
       "    }\n",
       "</style>\n",
       "<table border=\"1\" class=\"dataframe\">\n",
       "  <thead>\n",
       "    <tr style=\"text-align: right;\">\n",
       "      <th></th>\n",
       "      <th>Equipo</th>\n",
       "      <th>penaltis_contra</th>\n",
       "      <th>Temporada</th>\n",
       "      <th>penaltis</th>\n",
       "    </tr>\n",
       "  </thead>\n",
       "  <tbody>\n",
       "    <tr>\n",
       "      <th>0</th>\n",
       "      <td>Cádiz CF</td>\n",
       "      <td>13</td>\n",
       "      <td>21/22</td>\n",
       "      <td>6</td>\n",
       "    </tr>\n",
       "    <tr>\n",
       "      <th>1</th>\n",
       "      <td>Elche CF</td>\n",
       "      <td>10</td>\n",
       "      <td>21/22</td>\n",
       "      <td>1</td>\n",
       "    </tr>\n",
       "    <tr>\n",
       "      <th>2</th>\n",
       "      <td>Deportivo Alavés</td>\n",
       "      <td>9</td>\n",
       "      <td>21/22</td>\n",
       "      <td>7</td>\n",
       "    </tr>\n",
       "    <tr>\n",
       "      <th>3</th>\n",
       "      <td>FC Villarreal</td>\n",
       "      <td>5</td>\n",
       "      <td>21/22</td>\n",
       "      <td>6</td>\n",
       "    </tr>\n",
       "  </tbody>\n",
       "</table>\n",
       "</div>"
      ],
      "text/plain": [
       "             Equipo  penaltis_contra Temporada  penaltis\n",
       "0          Cádiz CF               13     21/22         6\n",
       "1          Elche CF               10     21/22         1\n",
       "2  Deportivo Alavés                9     21/22         7\n",
       "3     FC Villarreal                5     21/22         6"
      ]
     },
     "execution_count": 183,
     "metadata": {},
     "output_type": "execute_result"
    }
   ],
   "source": [
    "\"\"\"Tras in¡dentificar las 4 filas perdidas,\n",
    "creo una DF con los datos cogidos de las DF anteriores\"\"\"\n",
    "\n",
    "añadir = pd.DataFrame({'Equipo':['Cádiz CF','Elche CF','Deportivo Alavés','FC Villarreal'], #creamos estas 4 filas que se han perdido al hacer el merge\n",
    "          'penaltis_contra':[13,10,9,5],\n",
    "          'Temporada':['21/22','21/22','21/22','21/22'],\n",
    "          \t'penaltis':[6,1,7,6]})\n",
    "añadir"
   ]
  },
  {
   "cell_type": "code",
   "execution_count": 195,
   "metadata": {},
   "outputs": [],
   "source": [
    "penaltis = pd.concat([penaltis,añadir],axis=0) "
   ]
  },
  {
   "cell_type": "code",
   "execution_count": 201,
   "metadata": {},
   "outputs": [
    {
     "data": {
      "text/html": [
       "<div>\n",
       "<style scoped>\n",
       "    .dataframe tbody tr th:only-of-type {\n",
       "        vertical-align: middle;\n",
       "    }\n",
       "\n",
       "    .dataframe tbody tr th {\n",
       "        vertical-align: top;\n",
       "    }\n",
       "\n",
       "    .dataframe thead th {\n",
       "        text-align: right;\n",
       "    }\n",
       "</style>\n",
       "<table border=\"1\" class=\"dataframe\">\n",
       "  <thead>\n",
       "    <tr style=\"text-align: right;\">\n",
       "      <th></th>\n",
       "      <th>Equipo</th>\n",
       "      <th>penaltis_contra</th>\n",
       "      <th>Temporada</th>\n",
       "      <th>penaltis</th>\n",
       "    </tr>\n",
       "  </thead>\n",
       "  <tbody>\n",
       "    <tr>\n",
       "      <th>0</th>\n",
       "      <td>RCD Mallorca</td>\n",
       "      <td>2</td>\n",
       "      <td>05/06</td>\n",
       "      <td>1</td>\n",
       "    </tr>\n",
       "    <tr>\n",
       "      <th>1</th>\n",
       "      <td>RC Deportivo de Corunha</td>\n",
       "      <td>3</td>\n",
       "      <td>05/06</td>\n",
       "      <td>4</td>\n",
       "    </tr>\n",
       "    <tr>\n",
       "      <th>2</th>\n",
       "      <td>Athletic Bilbao</td>\n",
       "      <td>3</td>\n",
       "      <td>05/06</td>\n",
       "      <td>5</td>\n",
       "    </tr>\n",
       "    <tr>\n",
       "      <th>3</th>\n",
       "      <td>FC Villarreal</td>\n",
       "      <td>3</td>\n",
       "      <td>05/06</td>\n",
       "      <td>7</td>\n",
       "    </tr>\n",
       "    <tr>\n",
       "      <th>4</th>\n",
       "      <td>RCD Espanyol</td>\n",
       "      <td>3</td>\n",
       "      <td>05/06</td>\n",
       "      <td>4</td>\n",
       "    </tr>\n",
       "    <tr>\n",
       "      <th>...</th>\n",
       "      <td>...</td>\n",
       "      <td>...</td>\n",
       "      <td>...</td>\n",
       "      <td>...</td>\n",
       "    </tr>\n",
       "    <tr>\n",
       "      <th>355</th>\n",
       "      <td>Celta de Vigo</td>\n",
       "      <td>8</td>\n",
       "      <td>22/23</td>\n",
       "      <td>3</td>\n",
       "    </tr>\n",
       "    <tr>\n",
       "      <th>356</th>\n",
       "      <td>Getafe CF</td>\n",
       "      <td>8</td>\n",
       "      <td>22/23</td>\n",
       "      <td>8</td>\n",
       "    </tr>\n",
       "    <tr>\n",
       "      <th>357</th>\n",
       "      <td>Cádiz CF</td>\n",
       "      <td>10</td>\n",
       "      <td>22/23</td>\n",
       "      <td>5</td>\n",
       "    </tr>\n",
       "    <tr>\n",
       "      <th>358</th>\n",
       "      <td>Elche CF</td>\n",
       "      <td>10</td>\n",
       "      <td>22/23</td>\n",
       "      <td>5</td>\n",
       "    </tr>\n",
       "    <tr>\n",
       "      <th>359</th>\n",
       "      <td>Real Valladolid CF</td>\n",
       "      <td>10</td>\n",
       "      <td>22/23</td>\n",
       "      <td>4</td>\n",
       "    </tr>\n",
       "  </tbody>\n",
       "</table>\n",
       "<p>360 rows × 4 columns</p>\n",
       "</div>"
      ],
      "text/plain": [
       "                      Equipo  penaltis_contra Temporada  penaltis\n",
       "0               RCD Mallorca                2     05/06         1\n",
       "1    RC Deportivo de Corunha                3     05/06         4\n",
       "2            Athletic Bilbao                3     05/06         5\n",
       "3              FC Villarreal                3     05/06         7\n",
       "4               RCD Espanyol                3     05/06         4\n",
       "..                       ...              ...       ...       ...\n",
       "355            Celta de Vigo                8     22/23         3\n",
       "356                Getafe CF                8     22/23         8\n",
       "357                 Cádiz CF               10     22/23         5\n",
       "358                 Elche CF               10     22/23         5\n",
       "359       Real Valladolid CF               10     22/23         4\n",
       "\n",
       "[360 rows x 4 columns]"
      ]
     },
     "execution_count": 201,
     "metadata": {},
     "output_type": "execute_result"
    }
   ],
   "source": [
    "\"\"\"Reordeno la DF y restablesco los indices\"\"\"\n",
    "\n",
    "penaltis = penaltis.sort_values(by=['Temporada','penaltis_contra'])\n",
    "penaltis = penaltis.reset_index().drop('index',axis=1)\n",
    "penaltis"
   ]
  },
  {
   "cell_type": "code",
   "execution_count": 202,
   "metadata": {},
   "outputs": [],
   "source": [
    "penaltis.to_csv('data_limpio/penaltis_FC.csv')"
   ]
  }
 ],
 "metadata": {
  "kernelspec": {
   "display_name": "Python 3",
   "language": "python",
   "name": "python3"
  },
  "language_info": {
   "codemirror_mode": {
    "name": "ipython",
    "version": 3
   },
   "file_extension": ".py",
   "mimetype": "text/x-python",
   "name": "python",
   "nbconvert_exporter": "python",
   "pygments_lexer": "ipython3",
   "version": "3.11.5"
  }
 },
 "nbformat": 4,
 "nbformat_minor": 2
}
